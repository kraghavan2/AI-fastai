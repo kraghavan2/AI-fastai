{
  "nbformat": 4,
  "nbformat_minor": 0,
  "metadata": {
    "colab": {
      "name": "Untitled0.ipynb",
      "provenance": [],
      "authorship_tag": "ABX9TyMvrIa/3On7UwQLf0LfrBmE",
      "include_colab_link": true
    },
    "kernelspec": {
      "name": "python3",
      "display_name": "Python 3"
    }
  },
  "cells": [
    {
      "cell_type": "markdown",
      "metadata": {
        "id": "view-in-github",
        "colab_type": "text"
      },
      "source": [
        "<a href=\"https://colab.research.google.com/github/kraghavan2/AI-fastai/blob/main/COVID%20PREDICTIONS.ipynb\" target=\"_parent\"><img src=\"https://colab.research.google.com/assets/colab-badge.svg\" alt=\"Open In Colab\"/></a>"
      ]
    },
    {
      "cell_type": "code",
      "metadata": {
        "colab": {
          "base_uri": "https://localhost:8080/"
        },
        "id": "Rvo3fJTAJok6",
        "outputId": "93ac9908-b645-4a23-ad57-8efca4b60ec5"
      },
      "source": [
        "import numpy as np, pandas as pd\r\n",
        "from IPython.display import Image\r\n",
        "import matplotlib.pyplot as plt, seaborn as sns\r\n",
        "import scipy\r\n",
        "import warnings\r\n",
        "import plotly.express as px\r\n",
        "from itertools import product\r\n",
        "import statsmodels.api as sm\r\n",
        "import datetime\r\n",
        "from tqdm import tqdm\r\n",
        "warnings.filterwarnings('ignore')"
      ],
      "execution_count": 1,
      "outputs": [
        {
          "output_type": "stream",
          "text": [
            "/usr/local/lib/python3.6/dist-packages/statsmodels/tools/_testing.py:19: FutureWarning:\n",
            "\n",
            "pandas.util.testing is deprecated. Use the functions in the public API at pandas.testing instead.\n",
            "\n"
          ],
          "name": "stderr"
        }
      ]
    }
  ]
}