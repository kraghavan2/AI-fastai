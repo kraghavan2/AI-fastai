#hide
!pip install -Uqq fastbook
import fastbook
fastbook.setup_book()

from fastai vision all import *
From fastai vision.widgets imports *


