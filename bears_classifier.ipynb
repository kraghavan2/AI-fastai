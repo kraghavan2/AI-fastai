#hide
!pip install -Uqq fastbook
import fastbook
fastbook.setup_book()


from fastai vision all import *
From fastai vision.widgets imports *

path = Path()
learn_inf = load_learner(path/'export.pkl')
#hide_output
btn_upload = widgets.FileUpload()
btn_upload
out_pl = widgets.Output()
out_pl.clear_output()
lbl_pred = widgets.Label()

def on_click_classify(change):
    img = PILImage.create(btn_upload.data[-1])
    out_pl.clear_output()
    with out_pl: display(img.to_thumb(128,128))
    pred,pred_idx,probs = learn_inf.predict(img)
    lbl_pred.value = f'Prediction: {pred}; Probability: {probs[pred_idx]:.04f}'

btn_run.on_click(on_click_classify)

btn_upload.observe(on_click,name=['datas'])
display(VBox([widgets.Label('Select your bear!'),btn_upload, btn_run, out_pl, lbl_pred])
      
